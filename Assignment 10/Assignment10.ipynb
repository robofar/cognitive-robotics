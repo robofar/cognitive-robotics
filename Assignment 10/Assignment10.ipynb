{
 "cells": [
  {
   "cell_type": "code",
   "execution_count": 1,
   "id": "7325de75-e5ff-4afd-9f90-5df688ff9cbf",
   "metadata": {},
   "outputs": [],
   "source": [
    "import numpy as np\n",
    "import matplotlib.pyplot as plt\n",
    "import imageio.v2 as imageio\n",
    "import scipy\n",
    "from heapq import heappop, heappush"
   ]
  },
  {
   "cell_type": "markdown",
   "id": "4a7c0f41-a244-4f59-bd22-710456292923",
   "metadata": {},
   "source": [
    "# Task 1 - OGM Convolution"
   ]
  },
  {
   "cell_type": "markdown",
   "id": "1847a5f5-53b0-46de-a023-ec1daa0e9291",
   "metadata": {},
   "source": [
    "# Task 1a"
   ]
  },
  {
   "cell_type": "code",
   "execution_count": 2,
   "id": "d2a18403-5ac5-4fb1-b5d7-34bd9335cc3a",
   "metadata": {},
   "outputs": [],
   "source": [
    "def load_pbm_image(file_path):\n",
    "    image = imageio.imread(file_path, format='pbm')\n",
    "    return image"
   ]
  },
  {
   "cell_type": "code",
   "execution_count": 3,
   "id": "4bc87ffb-c504-4f68-8775-b4e5e0db5ce9",
   "metadata": {},
   "outputs": [],
   "source": [
    "def visualize_image(image, cmap=None):\n",
    "    plt.figure(figsize=(10,10))\n",
    "    plt.imshow(image, cmap=cmap)\n",
    "    plt.axis('off')\n",
    "    plt.show()"
   ]
  },
  {
   "cell_type": "code",
   "execution_count": 4,
   "id": "45c9d909-166b-4993-8ebe-e969e51db7f6",
   "metadata": {},
   "outputs": [],
   "source": [
    "def convolve_image(ogm, kernel):\n",
    "    convolved_channels = [scipy.signal.convolve2d(ogm[:, :, i], kernel, mode='same', boundary='fill', fillvalue=0) for i in range(3)]\n",
    "    # Stack the result to obtain the convolved RGB image\n",
    "    ogm_convolved = np.stack(convolved_channels, axis=-1)\n",
    "    #ogm_convolved = np.clip(ogm_convolved, 0, 1)\n",
    "    ogm_convolved = (ogm_convolved - np.min(ogm_convolved)) / (np.max(ogm_convolved) - np.min(ogm_convolved))\n",
    "\n",
    "    return ogm_convolved"
   ]
  },
  {
   "cell_type": "markdown",
   "id": "0f411023-6a6d-43cc-b3b5-597c2248a372",
   "metadata": {},
   "source": [
    "# Task 1b"
   ]
  },
  {
   "cell_type": "code",
   "execution_count": 5,
   "id": "69ed78df-11ef-4a1b-bf4c-a647a6402004",
   "metadata": {},
   "outputs": [],
   "source": [
    "file_path = 'Assignment_10_Map.pbm'\n",
    "ogm = load_pbm_image(file_path)"
   ]
  },
  {
   "cell_type": "code",
   "execution_count": 6,
   "id": "9156fda2-4ffb-4680-9a0d-957b42534b12",
   "metadata": {},
   "outputs": [
    {
     "data": {
      "image/png": "[encoded data removed]",
      "text/plain": [
       "<Figure size 720x720 with 1 Axes>"
      ]
     },
     "metadata": {
      "needs_background": "light"
     },
     "output_type": "display_data"
    }
   ],
   "source": [
    "visualize_image(ogm)"
   ]
  },
  {
   "cell_type": "code",
   "execution_count": 7,
   "id": "8d207c9a-322d-4723-9e64-d59e9e2b44df",
   "metadata": {},
   "outputs": [
    {
     "data": {
      "text/plain": [
       "(50, 70, 3)"
      ]
     },
     "execution_count": 7,
     "metadata": {},
     "output_type": "execute_result"
    }
   ],
   "source": [
    "ogm.shape"
   ]
  },
  {
   "cell_type": "code",
   "execution_count": 8,
   "id": "128f84a6-9cca-478d-a31e-9ecad308f4ca",
   "metadata": {},
   "outputs": [],
   "source": [
    "kernel_1 = np.array([\n",
    "    [1,2,1],\n",
    "    [2,4,2],\n",
    "    [1,2,1]\n",
    "])\n",
    "\n",
    "kernel_1 = np.divide(kernel_1, 16)"
   ]
  },
  {
   "cell_type": "code",
   "execution_count": 9,
   "id": "d5fa7c1c-eb59-4c62-b21f-7c0b8ebfbb3b",
   "metadata": {},
   "outputs": [],
   "source": [
    "l = 1.2\n",
    "a = np.exp(-l)\n",
    "b = np.exp(-l * np.sqrt(2))\n",
    "c = np.exp(0.0)\n",
    "\n",
    "kernel_2 = np.array([\n",
    "    [b,a,b],\n",
    "    [a,c,a],\n",
    "    [b,a,b]\n",
    "])"
   ]
  },
  {
   "cell_type": "code",
   "execution_count": 10,
   "id": "fdb8f9ae-373a-4f59-ae52-7336c6873b5f",
   "metadata": {},
   "outputs": [],
   "source": [
    "kernel_3 = np.array([\n",
    "    [0,-1,0],\n",
    "    [-1,4,-1],\n",
    "    [0,-1,0]\n",
    "])"
   ]
  },
  {
   "cell_type": "code",
   "execution_count": 11,
   "id": "2ae06ff9-ca6b-47a3-b8f1-b612ee1e31d6",
   "metadata": {},
   "outputs": [],
   "source": [
    "ogm_convolved_1 = convolve_image(ogm, kernel_1)"
   ]
  },
  {
   "cell_type": "code",
   "execution_count": 12,
   "id": "aa56860e-35ea-46dd-9b1b-b1ad12893327",
   "metadata": {},
   "outputs": [
    {
     "data": {
      "image/png": "[encoded data removed]",
      "text/plain": [
       "<Figure size 720x720 with 1 Axes>"
      ]
     },
     "metadata": {
      "needs_background": "light"
     },
     "output_type": "display_data"
    }
   ],
   "source": [
    "visualize_image(ogm_convolved_1)"
   ]
  },
  {
   "cell_type": "code",
   "execution_count": 13,
   "id": "fd9d65b8-44d8-45b1-9eee-3013429298b3",
   "metadata": {},
   "outputs": [
    {
     "data": {
      "text/plain": [
       "(50, 70, 3)"
      ]
     },
     "execution_count": 13,
     "metadata": {},
     "output_type": "execute_result"
    }
   ],
   "source": [
    "ogm_convolved_1.shape"
   ]
  },
  {
   "cell_type": "code",
   "execution_count": 14,
   "id": "6e9c4ae8-68f3-4ebd-bbcb-e4270607ad25",
   "metadata": {},
   "outputs": [],
   "source": [
    "ogm_convolved_2 = convolve_image(ogm, kernel_2)"
   ]
  },
  {
   "cell_type": "code",
   "execution_count": 15,
   "id": "f2955152-8fb4-46a8-bd03-36716bdb3b55",
   "metadata": {},
   "outputs": [
    {
     "data": {
      "image/png": "[encoded data removed]",
      "text/plain": [
       "<Figure size 720x720 with 1 Axes>"
      ]
     },
     "metadata": {
      "needs_background": "light"
     },
     "output_type": "display_data"
    }
   ],
   "source": [
    "visualize_image(ogm_convolved_2)"
   ]
  },
  {
   "cell_type": "code",
   "execution_count": 16,
   "id": "2ea9e738-d710-47cb-ad35-f2895a567d7c",
   "metadata": {},
   "outputs": [
    {
     "data": {
      "text/plain": [
       "(50, 70, 3)"
      ]
     },
     "execution_count": 16,
     "metadata": {},
     "output_type": "execute_result"
    }
   ],
   "source": [
    "ogm_convolved_2.shape"
   ]
  },
  {
   "cell_type": "code",
   "execution_count": 17,
   "id": "353bb08a-f267-4782-91c4-2b9c65721317",
   "metadata": {},
   "outputs": [],
   "source": [
    "ogm_convolved_3 = convolve_image(ogm, kernel_3)"
   ]
  },
  {
   "cell_type": "code",
   "execution_count": 18,
   "id": "40c9d46e-b38f-4558-aecc-533704c0ed4b",
   "metadata": {},
   "outputs": [
    {
     "data": {
      "image/png": "[encoded data removed]",
      "text/plain": [
       "<Figure size 720x720 with 1 Axes>"
      ]
     },
     "metadata": {
      "needs_background": "light"
     },
     "output_type": "display_data"
    }
   ],
   "source": [
    "visualize_image(ogm_convolved_3)"
   ]
  },
  {
   "cell_type": "code",
   "execution_count": 19,
   "id": "7c8a5525-feaa-4ba7-a085-0b9585387208",
   "metadata": {},
   "outputs": [
    {
     "data": {
      "text/plain": [
       "(50, 70, 3)"
      ]
     },
     "execution_count": 19,
     "metadata": {},
     "output_type": "execute_result"
    }
   ],
   "source": [
    "ogm_convolved_3.shape"
   ]
  },
  {
   "cell_type": "raw",
   "id": "67867dc8-b064-4aa2-8d57-c5223e5fae61",
   "metadata": {},
   "source": [
    "# Does not work - try again\n",
    "output_path = 'convolved_image.pbm'\n",
    "imageio.imwrite(output_path, (ogm_convolved1 * 255.0).astype(np.uint8), format='pbm')"
   ]
  },
  {
   "cell_type": "code",
   "execution_count": null,
   "id": "e6842424-f8d5-4ec1-a569-eb4e235ae6b9",
   "metadata": {},
   "outputs": [],
   "source": []
  },
  {
   "cell_type": "markdown",
   "id": "b6a2e0a9-5d3f-4190-840e-ef85f256f24d",
   "metadata": {},
   "source": [
    "# Task 2 - A*"
   ]
  },
  {
   "cell_type": "code",
   "execution_count": 20,
   "id": "3e0ab72d-ad78-4b9b-ba3e-d2208ff7d7ac",
   "metadata": {},
   "outputs": [],
   "source": [
    "world = np.array([\n",
    "    [1,1,1,1,0,1,1,1,1,1],\n",
    "    [1,1,0,1,0,1,1,0,0,1],\n",
    "    [1,0,0,1,1,1,0,1,0,1],\n",
    "    [1,1,1,0,1,1,1,1,0,1],\n",
    "    [1,0,0,1,1,1,1,0,0,1],\n",
    "    [1,0,1,1,0,0,1,0,1,1],\n",
    "    [1,0,1,0,1,0,1,0,0,1],\n",
    "    [1,0,1,0,1,0,0,1,1,1],\n",
    "    [1,0,0,0,0,0,1,0,0,1],\n",
    "    [1,1,1,1,1,1,1,1,1,1]\n",
    "])"
   ]
  },
  {
   "cell_type": "code",
   "execution_count": 21,
   "id": "d93e7a33-fb90-40bd-a809-948d60fc2bda",
   "metadata": {},
   "outputs": [
    {
     "data": {
      "image/png": "[encoded data removed]",
      "text/plain": [
       "<Figure size 720x720 with 1 Axes>"
      ]
     },
     "metadata": {
      "needs_background": "light"
     },
     "output_type": "display_data"
    }
   ],
   "source": [
    "visualize_image(world)"
   ]
  },
  {
   "cell_type": "markdown",
   "id": "e64fabf5-c66c-4303-b2e7-b3c779f4b759",
   "metadata": {},
   "source": [
    "# Task 2a: 4-neighbours A* (without heuristic)"
   ]
  },
  {
   "cell_type": "code",
   "execution_count": 22,
   "id": "918a0eab-c999-46b6-9f13-f5bb0a2cd074",
   "metadata": {},
   "outputs": [],
   "source": [
    "def a_star_4_neighbours_no_heuristics(world, start, goal):\n",
    "    '''\n",
    "    world - 2D grid map\n",
    "    start - 2D coordinates of start point in world\n",
    "    goal - 2D coordinates of goal point in world\n",
    "    '''\n",
    "    \n",
    "    rows, cols = world.shape\n",
    "    directions = [(0, 1), (1, 0), (0, -1), (-1, 0)]  # N, E, S, W\n",
    "\n",
    "    # Priority queue to store cells with their cost and coordinates\n",
    "    priority_queue = [(0, start)]\n",
    "    explored = set()\n",
    "\n",
    "    while priority_queue:\n",
    "        current_cost, current_cell = heappop(priority_queue)\n",
    "\n",
    "        if current_cell == goal:\n",
    "            break\n",
    "\n",
    "        if current_cell in explored:\n",
    "            continue\n",
    "\n",
    "        explored.add(current_cell)\n",
    "\n",
    "        for direction in directions:\n",
    "            new_cell = (current_cell[0] + direction[0], current_cell[1] + direction[1])\n",
    "            if 0 <= new_cell[0] < rows and 0 <= new_cell[1] < cols and world[new_cell] == 1:\n",
    "                new_cost = current_cost + 1  # Assuming each traversal is 1m distance\n",
    "                heappush(priority_queue, (new_cost, new_cell))\n",
    "\n",
    "    return current_cost, len(np.where(world == 1)[0]) - len(explored)"
   ]
  },
  {
   "cell_type": "code",
   "execution_count": 23,
   "id": "9c1b4600-b53a-42a4-956e-b19f528efcaa",
   "metadata": {},
   "outputs": [],
   "source": [
    "# Define start and goal points\n",
    "start_point = (9, 4)\n",
    "goal_point = (7, 2)"
   ]
  },
  {
   "cell_type": "code",
   "execution_count": 24,
   "id": "e8b58d01-f5c6-455e-9293-35613baed5aa",
   "metadata": {},
   "outputs": [
    {
     "name": "stdout",
     "output_type": "stream",
     "text": [
      "Length of the shortest path from S to G (4 neighbours): 26m\n",
      "Number of free cells not explored (4 neighbours): 3\n"
     ]
    }
   ],
   "source": [
    "# Run A* algorithm without heuristics\n",
    "path_length, unexplored_cells = a_star_4_neighbours_no_heuristics(world, start_point, goal_point)\n",
    "\n",
    "print(f\"Length of the shortest path from S to G (4 neighbours): {path_length}m\")\n",
    "print(f\"Number of free cells not explored (4 neighbours): {unexplored_cells}\")"
   ]
  },
  {
   "cell_type": "markdown",
   "id": "61b7cb02-0b63-41ee-8076-f9fbebd8ed88",
   "metadata": {},
   "source": [
    "# Task 2b: 8-neighbours A* (without heuristic)"
   ]
  },
  {
   "cell_type": "code",
   "execution_count": 25,
   "id": "fc81b4f2-c0b6-4433-af53-4b5dcb62d025",
   "metadata": {},
   "outputs": [],
   "source": [
    "def a_star_8_neighbours_no_heuristics(world, start, goal):\n",
    "    '''\n",
    "    world - 2D grid map\n",
    "    start - 2D coordinates of start point in world\n",
    "    goal - 2D coordinates of goal point in world\n",
    "    '''\n",
    "    \n",
    "    rows, cols = world.shape\n",
    "    directions = [(0, 1), (1, 0), (0, -1), (-1, 0), (1, 1), (-1, -1), (1, -1), (-1, 1)]  # N, E, S, W, NE, NW, SE, SW\n",
    "\n",
    "    # Priority queue to store cells with their cost and coordinates\n",
    "    priority_queue = [(0, start)]\n",
    "    explored = set()\n",
    "\n",
    "    while priority_queue:\n",
    "        current_cost, current_cell = heappop(priority_queue)\n",
    "\n",
    "        if current_cell == goal:\n",
    "            break\n",
    "\n",
    "        if current_cell in explored:\n",
    "            continue\n",
    "\n",
    "        explored.add(current_cell)\n",
    "\n",
    "        for direction in directions:\n",
    "            new_cell = (current_cell[0] + direction[0], current_cell[1] + direction[1])\n",
    "            if 0 <= new_cell[0] < rows and 0 <= new_cell[1] < cols and world[new_cell] == 1:\n",
    "                new_cost = current_cost + 1  # Assuming each traversal is 1m distance\n",
    "                heappush(priority_queue, (new_cost, new_cell))\n",
    "\n",
    "    return current_cost, len(np.where(world == 1)[0]) - len(explored)"
   ]
  },
  {
   "cell_type": "code",
   "execution_count": 26,
   "id": "07d6b4f7-f518-46fe-861d-76ed1e52ea93",
   "metadata": {},
   "outputs": [],
   "source": [
    "# Define start and goal points\n",
    "start_point = (9, 4)\n",
    "goal_point = (7, 2)"
   ]
  },
  {
   "cell_type": "code",
   "execution_count": 27,
   "id": "99164f2c-d0a4-483a-8733-32770f40dbad",
   "metadata": {},
   "outputs": [
    {
     "name": "stdout",
     "output_type": "stream",
     "text": [
      "Length of the shortest path from S to G (8 neighbours): 10m\n",
      "Number of free cells not explored (8 neighbours): 8\n"
     ]
    }
   ],
   "source": [
    "# Run A* algorithm without heuristics\n",
    "path_length, unexplored_cells = a_star_8_neighbours_no_heuristics(world, start_point, goal_point)\n",
    "\n",
    "print(f\"Length of the shortest path from S to G (8 neighbours): {path_length}m\")\n",
    "print(f\"Number of free cells not explored (8 neighbours): {unexplored_cells}\")"
   ]
  },
  {
   "cell_type": "markdown",
   "id": "567ad0e1-fe5b-45da-94e1-70dfa4126d25",
   "metadata": {},
   "source": [
    "# Task 3b: 8-neighbours A* (with heuristic)"
   ]
  },
  {
   "cell_type": "code",
   "execution_count": 28,
   "id": "0cb10519-864e-41d7-8b77-eb5d033ad98c",
   "metadata": {},
   "outputs": [],
   "source": [
    "def euclidean_distance(cell, goal):\n",
    "    # Simplified straight-line distance heuristic\n",
    "    return np.linalg.norm(np.array(cell) - np.array(goal))"
   ]
  },
  {
   "cell_type": "code",
   "execution_count": 29,
   "id": "436932a8-a6d3-41ec-990a-83c3cf9cf848",
   "metadata": {},
   "outputs": [],
   "source": [
    "def precompute_heuristic_euclidean_distance(world, goal):\n",
    "    rows, columns = world.shape\n",
    "    heuristic = np.zeros(world.shape)\n",
    "    for i in range(rows):\n",
    "        for j in range(columns):\n",
    "            if(world[i,j] == 1):\n",
    "                heuristic[i,j] = euclidean_distance((i,j), goal)\n",
    "\n",
    "    return heuristic"
   ]
  },
  {
   "cell_type": "code",
   "execution_count": 30,
   "id": "3cbf1148-c022-4611-ad3f-f234954ac19e",
   "metadata": {},
   "outputs": [],
   "source": [
    "def precompute_heuristic_simplified_euclidean_distance(world, goal):\n",
    "    rows, columns = world.shape\n",
    "    heuristic = np.zeros(world.shape)\n",
    "\n",
    "    for i in range(rows):\n",
    "        for j in range(columns):\n",
    "            dx = np.abs(i - goal[0])\n",
    "            dy = np.abs(j - goal[1])\n",
    "\n",
    "            diagonal_cost = np.min(np.array([dx, dy]))\n",
    "            straight_cost = np.abs(dx - dy)\n",
    "            \n",
    "            if(world[i,j] == 1):\n",
    "                heuristic[i,j] = straight_cost + diagonal_cost\n",
    "\n",
    "    return heuristic"
   ]
  },
  {
   "cell_type": "code",
   "execution_count": 31,
   "id": "9d861976-bf73-4cac-8a39-7996ff231104",
   "metadata": {},
   "outputs": [],
   "source": [
    "def a_star_8_neighbours_with_heuristics(world, start, goal, heuristic_values):\n",
    "    '''\n",
    "    world - 2D grid map\n",
    "    start - 2D coordinates of start point in world\n",
    "    goal - 2D coordinates of goal point in world\n",
    "    '''\n",
    "    \n",
    "    rows, cols = world.shape\n",
    "    directions = [(0, 1), (1, 0), (0, -1), (-1, 0), (1, 1), (-1, -1), (1, -1), (-1, 1)]  # N, E, S, W, NE, NW, SE, SW\n",
    "\n",
    "    # Priority queue to store cells with their cost and coordinates (f,g,h,cell)\n",
    "    priority_queue = [(0 + heuristic_values[start], 0, heuristic_values[start], start)]\n",
    "    explored = set()\n",
    "\n",
    "    while priority_queue:\n",
    "        current_f, current_g, current_h, current_cell = heappop(priority_queue)\n",
    "\n",
    "        if current_cell == goal:\n",
    "            break\n",
    "\n",
    "        if current_cell in explored:\n",
    "            continue\n",
    "\n",
    "        explored.add(current_cell)\n",
    "\n",
    "        for direction in directions:\n",
    "            new_cell = (current_cell[0] + direction[0], current_cell[1] + direction[1])\n",
    "            if 0 <= new_cell[0] < rows and 0 <= new_cell[1] < cols and world[new_cell] == 1:\n",
    "                new_g = current_g + 1  # Assuming each traversal is 1m distance\n",
    "                # Use precomputed heuristic\n",
    "                new_h = heuristic_values[new_cell]\n",
    "                new_f = new_g + new_h\n",
    "                heappush(priority_queue, (new_f, new_g, new_h, new_cell))\n",
    "\n",
    "    return current_g, len(np.where(world == 1)[0]) - len(explored)"
   ]
  },
  {
   "cell_type": "code",
   "execution_count": 32,
   "id": "9a9f09cd-4831-47cc-933b-1efc9190758a",
   "metadata": {},
   "outputs": [],
   "source": [
    "# Define start and goal points\n",
    "start_point = (9, 4)\n",
    "goal_point = (7, 2)"
   ]
  },
  {
   "cell_type": "markdown",
   "id": "f7dc6c27-4d63-4a3c-8027-a2728d283a05",
   "metadata": {},
   "source": [
    "### Heuristic: Real Euclidean Distance"
   ]
  },
  {
   "cell_type": "code",
   "execution_count": 33,
   "id": "1d8d9e6c-7b23-42c6-8da0-c01cd92c7059",
   "metadata": {},
   "outputs": [
    {
     "name": "stdout",
     "output_type": "stream",
     "text": [
      "Length of the shortest path from S to G (8 neighbours with real euclidean distance heuristic): 10m\n",
      "Number of free cells not explored (8 neighbours with euclidean distance heuristic): 43\n"
     ]
    }
   ],
   "source": [
    "# Run A* algorithm with real euclidean distance heuristic\n",
    "heuristic_values = precompute_heuristic_euclidean_distance(world, goal_point)\n",
    "path_length, unexplored_cells = a_star_8_neighbours_with_heuristics(world, start_point, goal_point, heuristic_values)\n",
    "\n",
    "print(f\"Length of the shortest path from S to G (8 neighbours with real euclidean distance heuristic): {path_length}m\")\n",
    "print(f\"Number of free cells not explored (8 neighbours with euclidean distance heuristic): {unexplored_cells}\")"
   ]
  },
  {
   "cell_type": "code",
   "execution_count": 34,
   "id": "4b9b901b-5236-4d0b-907c-5b2a5412402f",
   "metadata": {},
   "outputs": [
    {
     "data": {
      "text/plain": [
       "array([[7.28010989, 7.07106781, 7.        , 7.07106781, 0.        ,\n",
       "        7.61577311, 8.06225775, 8.60232527, 9.21954446, 9.89949494],\n",
       "       [6.32455532, 6.08276253, 0.        , 6.08276253, 0.        ,\n",
       "        6.70820393, 7.21110255, 0.        , 0.        , 9.21954446],\n",
       "       [5.38516481, 0.        , 0.        , 5.09901951, 5.38516481,\n",
       "        5.83095189, 0.        , 7.07106781, 0.        , 8.60232527],\n",
       "       [4.47213595, 4.12310563, 4.        , 0.        , 4.47213595,\n",
       "        5.        , 5.65685425, 6.40312424, 0.        , 8.06225775],\n",
       "       [3.60555128, 0.        , 0.        , 3.16227766, 3.60555128,\n",
       "        4.24264069, 5.        , 0.        , 0.        , 7.61577311],\n",
       "       [2.82842712, 0.        , 2.        , 2.23606798, 0.        ,\n",
       "        0.        , 4.47213595, 0.        , 6.32455532, 7.28010989],\n",
       "       [2.23606798, 0.        , 1.        , 0.        , 2.23606798,\n",
       "        0.        , 4.12310563, 0.        , 0.        , 7.07106781],\n",
       "       [2.        , 0.        , 0.        , 0.        , 2.        ,\n",
       "        0.        , 0.        , 5.        , 6.        , 7.        ],\n",
       "       [2.23606798, 0.        , 0.        , 0.        , 0.        ,\n",
       "        0.        , 4.12310563, 0.        , 0.        , 7.07106781],\n",
       "       [2.82842712, 2.23606798, 2.        , 2.23606798, 2.82842712,\n",
       "        3.60555128, 4.47213595, 5.38516481, 6.32455532, 7.28010989]])"
      ]
     },
     "execution_count": 34,
     "metadata": {},
     "output_type": "execute_result"
    }
   ],
   "source": [
    "heuristic_values"
   ]
  },
  {
   "cell_type": "markdown",
   "id": "3b5604c7-3d02-4d55-824c-e1930e174d59",
   "metadata": {},
   "source": [
    "### Heuristic: Simplified Euclidean Distance"
   ]
  },
  {
   "cell_type": "code",
   "execution_count": 35,
   "id": "79e74f42-08fb-4524-9055-7dacc87a0413",
   "metadata": {},
   "outputs": [
    {
     "name": "stdout",
     "output_type": "stream",
     "text": [
      "Length of the shortest path from S to G (8 neighbours with simplified euclidean distance heuristic): 10m\n",
      "Number of free cells not explored (8 neighbours with simplified euclidean distance heuristic): 42\n"
     ]
    }
   ],
   "source": [
    "# Run A* algorithm with simplified euclidean distance heuristic\n",
    "heuristic_values = precompute_heuristic_simplified_euclidean_distance(world, goal_point)\n",
    "path_length, unexplored_cells = a_star_8_neighbours_with_heuristics(world, start_point, goal_point, heuristic_values)\n",
    "\n",
    "print(f\"Length of the shortest path from S to G (8 neighbours with simplified euclidean distance heuristic): {path_length}m\")\n",
    "print(f\"Number of free cells not explored (8 neighbours with simplified euclidean distance heuristic): {unexplored_cells}\")"
   ]
  },
  {
   "cell_type": "code",
   "execution_count": 36,
   "id": "de74c3ab-4a8c-48f7-9ff3-743dff88b9a4",
   "metadata": {},
   "outputs": [
    {
     "data": {
      "text/plain": [
       "array([[7., 7., 7., 7., 0., 7., 7., 7., 7., 7.],\n",
       "       [6., 6., 0., 6., 0., 6., 6., 0., 0., 7.],\n",
       "       [5., 0., 0., 5., 5., 5., 0., 5., 0., 7.],\n",
       "       [4., 4., 4., 0., 4., 4., 4., 5., 0., 7.],\n",
       "       [3., 0., 0., 3., 3., 3., 4., 0., 0., 7.],\n",
       "       [2., 0., 2., 2., 0., 0., 4., 0., 6., 7.],\n",
       "       [2., 0., 1., 0., 2., 0., 4., 0., 0., 7.],\n",
       "       [2., 0., 0., 0., 2., 0., 0., 5., 6., 7.],\n",
       "       [2., 0., 0., 0., 0., 0., 4., 0., 0., 7.],\n",
       "       [2., 2., 2., 2., 2., 3., 4., 5., 6., 7.]])"
      ]
     },
     "execution_count": 36,
     "metadata": {},
     "output_type": "execute_result"
    }
   ],
   "source": [
    "# Simplified euclidean distance heuristic (0 is for occupied cells)\n",
    "heuristic_values"
   ]
  },
  {
   "cell_type": "code",
   "execution_count": null,
   "id": "33766d33-8580-42aa-be07-d28fafc2e541",
   "metadata": {},
   "outputs": [],
   "source": []
  },
  {
   "cell_type": "code",
   "execution_count": null,
   "id": "8d8569a3-8a5b-4e6a-b99e-a642b3cea851",
   "metadata": {},
   "outputs": [],
   "source": []
  },
  {
   "cell_type": "code",
   "execution_count": null,
   "id": "9188a194-1c20-444a-bf21-de7e6422f115",
   "metadata": {},
   "outputs": [],
   "source": []
  },
  {
   "cell_type": "code",
   "execution_count": null,
   "id": "d4c6515f-aa99-40aa-aa60-ff470ded4ea7",
   "metadata": {},
   "outputs": [],
   "source": []
  },
  {
   "cell_type": "code",
   "execution_count": null,
   "id": "aae2f530-0cdf-4ef8-946c-13ed06db4641",
   "metadata": {},
   "outputs": [],
   "source": []
  },
  {
   "cell_type": "code",
   "execution_count": null,
   "id": "f6417b94-fd6e-499a-8409-310347f3cb6d",
   "metadata": {},
   "outputs": [],
   "source": []
  }
 ],
 "metadata": {
  "kernelspec": {
   "display_name": "Python 3",
   "language": "python",
   "name": "python3"
  },
  "language_info": {
   "codemirror_mode": {
    "name": "ipython",
    "version": 3
   },
   "file_extension": ".py",
   "mimetype": "text/x-python",
   "name": "python",
   "nbconvert_exporter": "python",
   "pygments_lexer": "ipython3",
   "version": "3.8.18"
  }
 },
 "nbformat": 4,
 "nbformat_minor": 5
}
