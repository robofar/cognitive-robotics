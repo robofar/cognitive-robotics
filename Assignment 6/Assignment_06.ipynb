{
 "cells": [
  {
   "cell_type": "code",
   "execution_count": 1,
   "id": "c73cf82e-c783-4d7e-bd04-af5f6e689365",
   "metadata": {},
   "outputs": [],
   "source": [
    "import numpy as np"
   ]
  },
  {
   "cell_type": "markdown",
   "id": "ea56d78b-0588-4f3a-8945-957c613719d0",
   "metadata": {},
   "source": [
    "## Task 1.2"
   ]
  },
  {
   "cell_type": "code",
   "execution_count": 2,
   "id": "b1809612-79b3-43f5-9e1f-8fc99d50bf1e",
   "metadata": {},
   "outputs": [],
   "source": [
    "prior = 0.5\n",
    "ism = np.array([0.8, 0.2])"
   ]
  },
  {
   "cell_type": "code",
   "execution_count": 3,
   "id": "ab7b916a-3779-4b72-989d-cebb0e3928d1",
   "metadata": {},
   "outputs": [],
   "source": [
    "l_0 = np.log(np.divide(prior, 1 - prior))\n",
    "l_ism = np.log(np.divide(ism, 1 - ism))"
   ]
  },
  {
   "cell_type": "code",
   "execution_count": 4,
   "id": "c509a4e5-6265-45bc-baa3-4374599cae3d",
   "metadata": {},
   "outputs": [],
   "source": [
    "# Initialize cell with prior\n",
    "l_mij = l_0 "
   ]
  },
  {
   "cell_type": "code",
   "execution_count": 5,
   "id": "676afde7-1292-4cd1-99d0-eb83a5860fd4",
   "metadata": {},
   "outputs": [],
   "source": [
    "# Update cell belief for 100 measurements\n",
    "for i in range(0,100):\n",
    "    if(i<70):\n",
    "        l_mij = l_mij + l_ism[0] - l_0\n",
    "    else:\n",
    "        l_mij = l_mij + l_ism[1] - l_0"
   ]
  },
  {
   "cell_type": "code",
   "execution_count": 6,
   "id": "e91bc769-4138-44ce-8a6f-30a807b2f3e8",
   "metadata": {},
   "outputs": [],
   "source": [
    "p_mij = np.divide(1.0, 1.0 + np.divide(1.0, np.exp(l_mij)))"
   ]
  },
  {
   "cell_type": "code",
   "execution_count": 7,
   "id": "95dd7dfc-6af7-46e2-90b4-a712c615dfd5",
   "metadata": {},
   "outputs": [
    {
     "data": {
      "text/plain": [
       "55.45177444479574"
      ]
     },
     "execution_count": 7,
     "metadata": {},
     "output_type": "execute_result"
    }
   ],
   "source": [
    "l_mij"
   ]
  },
  {
   "cell_type": "code",
   "execution_count": 8,
   "id": "c85ac25f-a71d-4224-92cb-4c368c66cd9c",
   "metadata": {},
   "outputs": [
    {
     "data": {
      "text/plain": [
       "1.0"
      ]
     },
     "execution_count": 8,
     "metadata": {},
     "output_type": "execute_result"
    }
   ],
   "source": [
    "p_mij"
   ]
  },
  {
   "cell_type": "code",
   "execution_count": 13,
   "id": "16dba460-1a70-4759-9a9b-b05d11ee00c1",
   "metadata": {},
   "outputs": [
    {
     "name": "stdout",
     "output_type": "stream",
     "text": [
      "Inverse sensor model in log-odds space: \n",
      "For measurement of z=d, log-odds value of inverse sensor model is:  1.3862943611198908\n",
      "For measurement of z>d, log-odds value of inverse sensor model is:  -1.3862943611198906\n"
     ]
    }
   ],
   "source": [
    "print(\"Inverse sensor model in log-odds space: \")\n",
    "print(\"For measurement of z=d, log-odds value of inverse sensor model is: \", l_ism[0])\n",
    "print(\"For measurement of z>d, log-odds value of inverse sensor model is: \", l_ism[1])"
   ]
  },
  {
   "cell_type": "markdown",
   "id": "516dee22-1df7-469d-b08a-954b200ed304",
   "metadata": {},
   "source": [
    "### Conclusion\n",
    "This is expected result, because we had much more measurements of distance ``d`` then of distance ``>d``. This results in cell ``m_ij`` being updated many more times with positive ``log-odds value`` from inverse sensor model, then with negative ``log-odds`` value from same.\n",
    "\n",
    "Good thing about building Occupancy Grid Maps with defined inverse sensor model, is that even if sensor makes few wrong measurements, which is that ray ended in certain cell (which is free in reality), if in enough number of future correct measurements, laser ray passes through that cell, by updating ``log-odds`` value of that cell, wrong measurements will be suppresed by good measurements, and cell be correctly classified as free (in this case).\n",
    "\n",
    "Also, if we have enough measurements, in the end, each cell from a map will converge to either state of being free (i.e $P(m_i = occ) = 0.0$) or to state of being occupied (i.e. $P(m_i = occ) = 1.0$)."
   ]
  },
  {
   "cell_type": "code",
   "execution_count": null,
   "id": "f189ffce-5709-499d-98f4-e27aad69e60b",
   "metadata": {},
   "outputs": [],
   "source": []
  },
  {
   "cell_type": "code",
   "execution_count": null,
   "id": "0fa881ed-fb17-4768-bd1c-1a8fcbe710cd",
   "metadata": {},
   "outputs": [],
   "source": []
  }
 ],
 "metadata": {
  "kernelspec": {
   "display_name": "Python 3",
   "language": "python",
   "name": "python3"
  },
  "language_info": {
   "codemirror_mode": {
    "name": "ipython",
    "version": 3
   },
   "file_extension": ".py",
   "mimetype": "text/x-python",
   "name": "python",
   "nbconvert_exporter": "python",
   "pygments_lexer": "ipython3",
   "version": "3.8.18"
  }
 },
 "nbformat": 4,
 "nbformat_minor": 5
}
