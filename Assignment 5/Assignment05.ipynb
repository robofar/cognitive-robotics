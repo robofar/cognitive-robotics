{
 "cells": [
  {
   "cell_type": "code",
   "execution_count": 1,
   "id": "16e6e84b-8a2e-4b7e-a1e3-0b38977b6ee7",
   "metadata": {},
   "outputs": [],
   "source": [
    "import numpy as np\n",
    "import pandas as pd\n",
    "import matplotlib.pyplot as plt"
   ]
  },
  {
   "cell_type": "markdown",
   "id": "8711f7a0-4394-4d52-9128-fbf885a0c3c0",
   "metadata": {},
   "source": [
    "## Task 1.1 - Correction Step in Bayes Filter"
   ]
  },
  {
   "cell_type": "markdown",
   "id": "01690897-8eda-4453-8d6f-9a932c8ddb84",
   "metadata": {},
   "source": [
    "### Sensor Model $P(z_t|x_t)$"
   ]
  },
  {
   "cell_type": "code",
   "execution_count": 2,
   "id": "0f6b2985-2f70-4f20-b6a7-30002dc4d02b",
   "metadata": {},
   "outputs": [],
   "source": [
    "# Create an empty dataframe with columns 'Z', 'X1' to 'X7'\n",
    "columns = ['Z'] + [f'X{i}' for i in range(1, 8)]\n",
    "df = pd.DataFrame(columns=columns)\n",
    "df['X1'] = [0.0, 0.0, 0.0, 1.0]\n",
    "df['X2'] = [0.0, 0.25, 0.50, 0.25]\n",
    "df['X3'] = [0.25, 0.50, 0.25, 0.0]\n",
    "df['X4'] = [0.50, 0.25, 0.0, 0.25]\n",
    "df['X5'] = [0.0, 0.50, 0.50, 0.0]\n",
    "df['X6'] = [0.50, 0.50, 0.0, 0.0]\n",
    "df['X7'] = [0.0, 0.0, 0.0, 1.0]\n",
    "\n",
    "df['Z'] = [-1, 0, 1, 'n']\n",
    "\n",
    "# Set column 'Z' as the index\n",
    "df.set_index('Z', inplace=True)"
   ]
  },
  {
   "cell_type": "code",
   "execution_count": 3,
   "id": "64b5da92-a0b9-482f-b0e0-57b34d686339",
   "metadata": {},
   "outputs": [
    {
     "data": {
      "text/html": [
       "<div>\n",
       "<style scoped>\n",
       "    .dataframe tbody tr th:only-of-type {\n",
       "        vertical-align: middle;\n",
       "    }\n",
       "\n",
       "    .dataframe tbody tr th {\n",
       "        vertical-align: top;\n",
       "    }\n",
       "\n",
       "    .dataframe thead th {\n",
       "        text-align: right;\n",
       "    }\n",
       "</style>\n",
       "<table border=\"1\" class=\"dataframe\">\n",
       "  <thead>\n",
       "    <tr style=\"text-align: right;\">\n",
       "      <th></th>\n",
       "      <th>X1</th>\n",
       "      <th>X2</th>\n",
       "      <th>X3</th>\n",
       "      <th>X4</th>\n",
       "      <th>X5</th>\n",
       "      <th>X6</th>\n",
       "      <th>X7</th>\n",
       "    </tr>\n",
       "    <tr>\n",
       "      <th>Z</th>\n",
       "      <th></th>\n",
       "      <th></th>\n",
       "      <th></th>\n",
       "      <th></th>\n",
       "      <th></th>\n",
       "      <th></th>\n",
       "      <th></th>\n",
       "    </tr>\n",
       "  </thead>\n",
       "  <tbody>\n",
       "    <tr>\n",
       "      <th>-1</th>\n",
       "      <td>0.0</td>\n",
       "      <td>0.00</td>\n",
       "      <td>0.25</td>\n",
       "      <td>0.50</td>\n",
       "      <td>0.0</td>\n",
       "      <td>0.5</td>\n",
       "      <td>0.0</td>\n",
       "    </tr>\n",
       "    <tr>\n",
       "      <th>0</th>\n",
       "      <td>0.0</td>\n",
       "      <td>0.25</td>\n",
       "      <td>0.50</td>\n",
       "      <td>0.25</td>\n",
       "      <td>0.5</td>\n",
       "      <td>0.5</td>\n",
       "      <td>0.0</td>\n",
       "    </tr>\n",
       "    <tr>\n",
       "      <th>1</th>\n",
       "      <td>0.0</td>\n",
       "      <td>0.50</td>\n",
       "      <td>0.25</td>\n",
       "      <td>0.00</td>\n",
       "      <td>0.5</td>\n",
       "      <td>0.0</td>\n",
       "      <td>0.0</td>\n",
       "    </tr>\n",
       "    <tr>\n",
       "      <th>n</th>\n",
       "      <td>1.0</td>\n",
       "      <td>0.25</td>\n",
       "      <td>0.00</td>\n",
       "      <td>0.25</td>\n",
       "      <td>0.0</td>\n",
       "      <td>0.0</td>\n",
       "      <td>1.0</td>\n",
       "    </tr>\n",
       "  </tbody>\n",
       "</table>\n",
       "</div>"
      ],
      "text/plain": [
       "     X1    X2    X3    X4   X5   X6   X7\n",
       "Z                                       \n",
       "-1  0.0  0.00  0.25  0.50  0.0  0.5  0.0\n",
       "0   0.0  0.25  0.50  0.25  0.5  0.5  0.0\n",
       "1   0.0  0.50  0.25  0.00  0.5  0.0  0.0\n",
       "n   1.0  0.25  0.00  0.25  0.0  0.0  1.0"
      ]
     },
     "execution_count": 3,
     "metadata": {},
     "output_type": "execute_result"
    }
   ],
   "source": [
    "df"
   ]
  },
  {
   "cell_type": "markdown",
   "id": "a7942416-a8f3-4149-a92d-95a96f8640ae",
   "metadata": {},
   "source": [
    "### Prior $\\overline{bel}(x_t)$"
   ]
  },
  {
   "cell_type": "code",
   "execution_count": 4,
   "id": "4d028b6f-16f4-4f76-9e7d-a2f2ae551220",
   "metadata": {},
   "outputs": [],
   "source": [
    "prior = np.array([0.1, 0.3, 0.2, 0.2, 0.2, 0.0, 0.0])"
   ]
  },
  {
   "cell_type": "code",
   "execution_count": 5,
   "id": "0ae26284-039c-4d03-8d3b-f063a3555ac5",
   "metadata": {},
   "outputs": [
    {
     "data": {
      "text/plain": [
       "Text(0.5, 1.0, 'Prior distribution over states')"
      ]
     },
     "execution_count": 5,
     "metadata": {},
     "output_type": "execute_result"
    },
    {
     "data": {
      "image/png": "[encoded data removed]",
      "text/plain": [
       "<Figure size 1080x360 with 1 Axes>"
      ]
     },
     "metadata": {
      "needs_background": "light"
     },
     "output_type": "display_data"
    }
   ],
   "source": [
    "# Create a bar plot\n",
    "\n",
    "plt.figure(figsize=(15,5))\n",
    "plt.bar(range(len(prior)), prior, color='blue')\n",
    "\n",
    "# Add labels and title\n",
    "plt.xlabel('States')\n",
    "plt.ylabel('Probability')\n",
    "plt.title('Prior distribution over states')"
   ]
  },
  {
   "cell_type": "markdown",
   "id": "a372b164-8014-4438-aafd-533abfcf4767",
   "metadata": {},
   "source": [
    "### Posterior $bel(x_t)$ if measurement is $z=1$"
   ]
  },
  {
   "cell_type": "markdown",
   "id": "912e6485-1927-467e-a42f-97315bab4b24",
   "metadata": {},
   "source": [
    "Using prediction step in Bayes Rule, we can compute posterior distribution over states.\n",
    "\n",
    "$bel(x_t)$ = $P(z_t=1|x_t)$ $\\cdot$ $\\overline{bel}(x_t)$"
   ]
  },
  {
   "cell_type": "code",
   "execution_count": 6,
   "id": "90e716e7-0166-4e2a-b563-abdbf25292c7",
   "metadata": {},
   "outputs": [],
   "source": [
    "posterior = np.zeros(len(prior))"
   ]
  },
  {
   "cell_type": "code",
   "execution_count": 7,
   "id": "426a8d9c-0439-42c5-9b5b-e225d688c968",
   "metadata": {},
   "outputs": [],
   "source": [
    "z = 1\n",
    "posterior[0] = df.loc[z,'X1'] * prior[0]\n",
    "posterior[1] = df.loc[z,'X2'] * prior[1]\n",
    "posterior[2] = df.loc[z,'X3'] * prior[2]\n",
    "posterior[3] = df.loc[z,'X4'] * prior[3]\n",
    "posterior[4] = df.loc[z,'X5'] * prior[4]\n",
    "posterior[5] = df.loc[z,'X6'] * prior[5]\n",
    "posterior[6] = df.loc[z,'X7'] * prior[6]"
   ]
  },
  {
   "cell_type": "code",
   "execution_count": 8,
   "id": "e79c62c1-7bfb-443d-90c8-959a860957e6",
   "metadata": {},
   "outputs": [],
   "source": [
    "# Normalize so it sum up to one\n",
    "normalization_constant = np.sum(posterior)\n",
    "posterior = np.divide(posterior, normalization_constant)"
   ]
  },
  {
   "cell_type": "code",
   "execution_count": 9,
   "id": "304e9768-92b9-4976-a05b-e5bb23f11ee4",
   "metadata": {},
   "outputs": [
    {
     "data": {
      "text/plain": [
       "Text(0.5, 1.0, 'Posterior distribution over states')"
      ]
     },
     "execution_count": 9,
     "metadata": {},
     "output_type": "execute_result"
    },
    {
     "data": {
      "image/png": "[encoded data removed]",
      "text/plain": [
       "<Figure size 1080x360 with 1 Axes>"
      ]
     },
     "metadata": {
      "needs_background": "light"
     },
     "output_type": "display_data"
    }
   ],
   "source": [
    "# Create a bar plot\n",
    "\n",
    "plt.figure(figsize=(15,5))\n",
    "plt.bar(range(len(posterior)), posterior, color='red')\n",
    "\n",
    "# Add labels and title\n",
    "plt.xlabel('States')\n",
    "plt.ylabel('Probability')\n",
    "plt.title('Posterior distribution over states')"
   ]
  },
  {
   "cell_type": "markdown",
   "id": "1f16d251-74ad-4fbf-9bb7-5b3771403d77",
   "metadata": {},
   "source": [
    "## Task 1.2 - Prediction Step in Bayes Filter"
   ]
  },
  {
   "cell_type": "markdown",
   "id": "811d07cd-ce70-4890-acab-9fb3dcf7a6bd",
   "metadata": {},
   "source": [
    "### Motion Model $P(x_t | u_t,x_{t-1})$"
   ]
  },
  {
   "cell_type": "code",
   "execution_count": 10,
   "id": "392feb60-f3bb-4b4e-94b1-7a1c516444b0",
   "metadata": {},
   "outputs": [],
   "source": [
    "p_stay = 0.2\n",
    "p_move_right_1 = 0.6\n",
    "p_move_right_2 = 0.2\n",
    "p_move_left_1 = 0.0\n",
    "p_move_left_2 = 0.0\n",
    "\n",
    "# Define the motion model kernel\n",
    "# We have to add move_left_1 and move_left_2, because p_stay needs to be center of kernel\n",
    "motion_model = np.array([p_move_left_2, p_move_left_1, p_stay, p_move_right_1, p_move_right_2])"
   ]
  },
  {
   "cell_type": "markdown",
   "id": "0a5d9ae6-f4c0-4e84-a6e5-793b83518bcf",
   "metadata": {},
   "source": [
    "### Posterior calculation"
   ]
  },
  {
   "cell_type": "markdown",
   "id": "88d70fe3-5cf2-4352-ac3d-9be8d2f2059d",
   "metadata": {},
   "source": [
    "### $\\overline{bel}(x_t)$ = $\\sum_{x_{t-1}} P(x_t | u_t, x_{t-1}) \\cdot bel(x_{t-1})$"
   ]
  },
  {
   "cell_type": "code",
   "execution_count": 11,
   "id": "5925ef40-d04e-4075-a34d-7d0a08ffbcef",
   "metadata": {},
   "outputs": [],
   "source": [
    "prior = posterior"
   ]
  },
  {
   "cell_type": "code",
   "execution_count": 12,
   "id": "7d180115-1859-43d8-9486-3152c4613df3",
   "metadata": {},
   "outputs": [],
   "source": [
    "posterior = np.convolve(prior, motion_model, mode='same')\n",
    "# Normalization for valid probability distribution (sum up to 1)\n",
    "# posterior /= np.sum(posterior)"
   ]
  },
  {
   "cell_type": "code",
   "execution_count": 13,
   "id": "1e917abc-4a67-484e-982d-2e4a041b06d6",
   "metadata": {},
   "outputs": [
    {
     "data": {
      "text/plain": [
       "Text(0.5, 1.0, 'Posterior distribution over states')"
      ]
     },
     "execution_count": 13,
     "metadata": {},
     "output_type": "execute_result"
    },
    {
     "data": {
      "image/png": "[encoded data removed]",
      "text/plain": [
       "<Figure size 1080x360 with 1 Axes>"
      ]
     },
     "metadata": {
      "needs_background": "light"
     },
     "output_type": "display_data"
    }
   ],
   "source": [
    "# Create a bar plot\n",
    "\n",
    "plt.figure(figsize=(15,5))\n",
    "plt.bar(range(len(posterior)), posterior, color='green')\n",
    "\n",
    "# Add labels and title\n",
    "plt.xlabel('States')\n",
    "plt.ylabel('Probability')\n",
    "plt.title('Posterior distribution over states')"
   ]
  },
  {
   "cell_type": "code",
   "execution_count": null,
   "id": "e797067d-80ec-4dea-ad92-1640a254f138",
   "metadata": {},
   "outputs": [],
   "source": []
  },
  {
   "cell_type": "code",
   "execution_count": null,
   "id": "d7ce8c0a-1003-4ff4-b784-da8f688cd537",
   "metadata": {},
   "outputs": [],
   "source": []
  },
  {
   "cell_type": "markdown",
   "id": "afb29e8e-ea8f-4807-a234-db2241e2917b",
   "metadata": {},
   "source": [
    "## Task 2 - Bayes Filter"
   ]
  },
  {
   "cell_type": "code",
   "execution_count": 14,
   "id": "dd386188-f1de-49e7-8fbc-be511aa13044",
   "metadata": {},
   "outputs": [],
   "source": [
    "states = [0,10,20,30,40,50,60,70,80,90,100]\n",
    "bel = np.array([0.0, 0.0, 0.0, 0.2, 0.6, 0.2, 0.0, 0.0, 0.0, 0.0, 0.0])"
   ]
  },
  {
   "cell_type": "code",
   "execution_count": 15,
   "id": "13d45c13-d813-43f9-ac2c-8b28a61c1308",
   "metadata": {},
   "outputs": [],
   "source": [
    "def prediction(motion, bel, states):\n",
    "    new_bel = np.convolve(bel, motion, mode='same')\n",
    "    \n",
    "    plt.figure(figsize=(15,5))\n",
    "    plt.bar(states, new_bel, color='green')\n",
    "    \n",
    "    # Add labels and title\n",
    "    plt.xlabel('States')\n",
    "    plt.ylabel('Probability')\n",
    "    plt.title('Prediction')\n",
    "    return new_bel"
   ]
  },
  {
   "cell_type": "code",
   "execution_count": 16,
   "id": "81a3ca9d-47c4-4442-b621-cefc1e921d59",
   "metadata": {},
   "outputs": [],
   "source": [
    "def correction(m, bel, states):\n",
    "    new_bel = np.zeros(len(bel))\n",
    "    for i in range(len(states)):\n",
    "        if(states[i] > (m + 10)):\n",
    "            new_bel[i] = 0.0 * bel[i]\n",
    "        if(states[i] == (m + 10)):\n",
    "            new_bel[i] = 0.1 * bel[i]\n",
    "        if(states[i] == m):\n",
    "            new_bel[i] = 0.7 * bel[i]\n",
    "        if(states[i] == (m - 10)):\n",
    "            new_bel[i] = 0.2 * bel[i]\n",
    "        if(states[i] < (m - 10)):\n",
    "            new_bel[i] = 0.0 * bel[i]\n",
    "\n",
    "    # Normalize\n",
    "    new_bel = np.divide(new_bel, np.sum(new_bel))\n",
    "    \n",
    "    plt.figure(figsize=(15,5))\n",
    "    plt.bar(states, new_bel, color='green')\n",
    "    \n",
    "    # Add labels and title\n",
    "    plt.xlabel('States')\n",
    "    plt.ylabel('Probability')\n",
    "    plt.title('Correction')\n",
    "    return new_bel"
   ]
  },
  {
   "cell_type": "code",
   "execution_count": 17,
   "id": "c7f1bfe9-dd01-446c-8474-59b297490dc2",
   "metadata": {},
   "outputs": [],
   "source": [
    "def bayes_filter(motion, m, bel, states):\n",
    "    pred_bel = prediction(motion, bel, states)\n",
    "    corr_bel = correction(m, pred_bel, states)\n",
    "    return corr_bel"
   ]
  },
  {
   "cell_type": "code",
   "execution_count": 18,
   "id": "ed72f56d-03c4-4a2f-b74f-6a992776601a",
   "metadata": {},
   "outputs": [],
   "source": [
    "# action 0 is a=-10, action 1 is a=0, action 2 is a=10 (I encoded actions, because of easier indexing )\n",
    "actions = [0,1,2]\n",
    "motion_model = [[0.7, 0.3, 0.0],[0.0, 1.0, 0.0],[0.0, 0.2, 0.8]]\n",
    "measurements = [40,50,50]"
   ]
  },
  {
   "cell_type": "code",
   "execution_count": 19,
   "id": "5e232ad3-9d94-4756-b251-5f588ecea974",
   "metadata": {},
   "outputs": [
    {
     "data": {
      "text/plain": [
       "Text(0.5, 1.0, 'Prior distribution over the states')"
      ]
     },
     "execution_count": 19,
     "metadata": {},
     "output_type": "execute_result"
    },
    {
     "data": {
      "image/png": "[encoded data removed]",
      "text/plain": [
       "<Figure size 1080x360 with 1 Axes>"
      ]
     },
     "metadata": {
      "needs_background": "light"
     },
     "output_type": "display_data"
    }
   ],
   "source": [
    "plt.figure(figsize=(15,5))\n",
    "plt.bar(states, bel, color='green')\n",
    "    \n",
    "# Add labels and title\n",
    "plt.xlabel('States')\n",
    "plt.ylabel('Probability')\n",
    "plt.title('Prior distribution over the states')"
   ]
  },
  {
   "cell_type": "code",
   "execution_count": 20,
   "id": "4fad7519-835f-4e8c-815f-393bab524293",
   "metadata": {},
   "outputs": [
    {
     "data": {
      "image/png": "[encoded data removed]",
      "text/plain": [
       "<Figure size 1080x360 with 1 Axes>"
      ]
     },
     "metadata": {
      "needs_background": "light"
     },
     "output_type": "display_data"
    },
    {
     "data": {
      "image/png": "[encoded data removed]",
      "text/plain": [
       "<Figure size 1080x360 with 1 Axes>"
      ]
     },
     "metadata": {
      "needs_background": "light"
     },
     "output_type": "display_data"
    },
    {
     "data": {
      "image/png": "[encoded data removed]",
      "text/plain": [
       "<Figure size 1080x360 with 1 Axes>"
      ]
     },
     "metadata": {
      "needs_background": "light"
     },
     "output_type": "display_data"
    },
    {
     "data": {
      "image/png": "[encoded data removed]",
      "text/plain": [
       "<Figure size 1080x360 with 1 Axes>"
      ]
     },
     "metadata": {
      "needs_background": "light"
     },
     "output_type": "display_data"
    },
    {
     "data": {
      "image/png": "[encoded data removed]",
      "text/plain": [
       "<Figure size 1080x360 with 1 Axes>"
      ]
     },
     "metadata": {
      "needs_background": "light"
     },
     "output_type": "display_data"
    },
    {
     "data": {
      "image/png": "[encoded data removed]",
      "text/plain": [
       "<Figure size 1080x360 with 1 Axes>"
      ]
     },
     "metadata": {
      "needs_background": "light"
     },
     "output_type": "display_data"
    }
   ],
   "source": [
    "for i in range(len(actions)):\n",
    "    prior = bel\n",
    "    bel = bayes_filter(motion_model[actions[i]], measurements[i], prior, states)"
   ]
  },
  {
   "cell_type": "code",
   "execution_count": null,
   "id": "605ac042-6614-4257-a652-6af5c039515d",
   "metadata": {},
   "outputs": [],
   "source": []
  },
  {
   "cell_type": "code",
   "execution_count": null,
   "id": "0687ae70-cc4e-4e18-88ba-1659204366b9",
   "metadata": {},
   "outputs": [],
   "source": []
  }
 ],
 "metadata": {
  "kernelspec": {
   "display_name": "Python 3",
   "language": "python",
   "name": "python3"
  },
  "language_info": {
   "codemirror_mode": {
    "name": "ipython",
    "version": 3
   },
   "file_extension": ".py",
   "mimetype": "text/x-python",
   "name": "python",
   "nbconvert_exporter": "python",
   "pygments_lexer": "ipython3",
   "version": "3.8.18"
  }
 },
 "nbformat": 4,
 "nbformat_minor": 5
}
